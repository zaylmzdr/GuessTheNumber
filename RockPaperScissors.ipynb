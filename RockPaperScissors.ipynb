{
  "nbformat": 4,
  "nbformat_minor": 0,
  "metadata": {
    "colab": {
      "provenance": [],
      "authorship_tag": "ABX9TyNQ2ewanEFirnDkTnvEJHjK",
      "include_colab_link": true
    },
    "kernelspec": {
      "name": "python3",
      "display_name": "Python 3"
    },
    "language_info": {
      "name": "python"
    }
  },
  "cells": [
    {
      "cell_type": "markdown",
      "metadata": {
        "id": "view-in-github",
        "colab_type": "text"
      },
      "source": [
        "<a href=\"https://colab.research.google.com/github/zaylmzdr/GuessTheNumber/blob/main/RockPaperScissors.ipynb\" target=\"_parent\"><img src=\"https://colab.research.google.com/assets/colab-badge.svg\" alt=\"Open In Colab\"/></a>"
      ]
    },
    {
      "cell_type": "code",
      "execution_count": 5,
      "metadata": {
        "colab": {
          "base_uri": "https://localhost:8080/"
        },
        "id": "y7CoE3h4BeAy",
        "outputId": "d61a750b-caf9-4bfe-9612-9fb99fe3a8e7"
      },
      "outputs": [
        {
          "output_type": "stream",
          "name": "stdout",
          "text": [
            "How many rounds will you play? 3\n",
            "rock,paper,scissors?rock\n",
            "Player2: scissors\n",
            "You won\n",
            "Game scores:💯 1 0\n",
            "rock,paper,scissors?rock\n",
            "Player2: scissors\n",
            "You won\n",
            "Game scores:💯 2 0\n",
            "rock,paper,scissors?rock\n",
            "Player2: rock\n",
            "Tie! oth players chose the same action\n",
            "Game scores:💯 3 1\n",
            "You are the winner👋\n"
          ]
        }
      ],
      "source": [
        "import random\n",
        "\n",
        "#Add the code to create a list containing the three actions of the game.\n",
        "listgame = [\"rock\",\"paper\",\"scissors\"]\n",
        "\n",
        "#Add the code to set the scores of players to 0\n",
        "player_score1 = 0\n",
        "player_score2 = 0\n",
        "#Add a round_counter that is 0 at the beginning\n",
        "round_counter = 0\n",
        "\n",
        "#Add the code to ask the user how many rounds they want to play\n",
        "round = int(input(\"How many rounds will you play? \"))\n",
        "\n",
        "#Write a while loop and put the game inside\n",
        "while True:\n",
        "\n",
        "  #increase round_counter by 1 and print it\n",
        "  round_counter +=1\n",
        "\n",
        "  player1 = input(\"rock,paper,scissors?\")\n",
        "  #Add the code to select a random action for each player\n",
        "  player2 = random.randint(0,3)\n",
        "  player2 = random.choice(listgame)\n",
        "\n",
        "  #Add the code to print the players choices\n",
        "  print(\"Player2:\",player2)\n",
        "\n",
        "  #Add the tie condition\n",
        "  if player1 == player2:\n",
        "    player_score1 +=1\n",
        "    player_score2 +=1\n",
        "    print(\"Tie! oth players chose the same action\")\n",
        "\n",
        "  #Add the remaining condition\n",
        "  elif player1 == \"rock\":\n",
        "    if player2 == \"paper\":\n",
        "      player_score2 +=1\n",
        "      print(\"player2 won\")\n",
        "    else:\n",
        "      player_score1 +=1\n",
        "      print(\"You won\")\n",
        "  elif player1 == \"paper\":\n",
        "    if player2 == \"scissors\":\n",
        "      player_score2 +=1\n",
        "      print(\"player2 won\")\n",
        "    else:\n",
        "      player_score1 +=1\n",
        "      print(\"You won\")\n",
        "  elif player1 == \"rock\":\n",
        "    if player2 == \"paper\":\n",
        "      player_score2 +=1\n",
        "      print(\"player2 won\")\n",
        "  else:\n",
        "    player_score1 +=1\n",
        "    print(\"You won\")\n",
        "\n",
        "  #print the score\n",
        "  print(\"Game scores:💯\",player_score1,player_score2)\n",
        "\n",
        "  #stop the while loop if the round_counter equals the number of total rounds\n",
        "  if round_counter == round:\n",
        "    break\n",
        "#Print the outcome of the game by using conditional statements\n",
        "if player_score1 > player_score2:\n",
        "    print(\"You are the winner👋\")\n",
        "elif player_score1 < player_score2:\n",
        "    print(\"player2 is the winner👋\")\n",
        "else:\n",
        "    print(\"the game ended in a draw\")"
      ]
    }
  ]
}